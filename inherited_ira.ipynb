{
  "cells": [
    {
      "cell_type": "markdown",
      "metadata": {
        "id": "view-in-github",
        "colab_type": "text"
      },
      "source": [
        "<a href=\"https://colab.research.google.com/github/jtk4545/Inherited-IRA/blob/main/inherited_ira.ipynb\" target=\"_parent\"><img src=\"https://colab.research.google.com/assets/colab-badge.svg\" alt=\"Open In Colab\"/></a>"
      ]
    },
    {
      "cell_type": "code",
      "execution_count": null,
      "metadata": {
        "id": "L4XWizkbSeS_"
      },
      "outputs": [],
      "source": [
        "''' ********** ASSETS ********** '''\n",
        "# starting year and the number of future years to forecast\n",
        "current_year, n_future_years = 2022, 11\n",
        "\n",
        "# Inherited IRA starting amount, average rate of return, and the number of years left to withdraw\n",
        "ira_amount, ira_ror, years_remaining = 291000, 0.07, 10\n",
        "\n",
        "# Example: The new asset is the S&P 500\n",
        "new_asset, new_asset_ror, new_asset_contribution_rate_perc_of_income = 0, 0.07, 0\n",
        "\n",
        "\n",
        "''' ********** ASSET INCOME WITHDRAWAL ********** '''\n",
        "swr = 0.0 # percentage of IRA + New Asset to withdraw and use to live on each year\n",
        "\n",
        "\n",
        "''' ********** INCOME ********** '''\n",
        "# starting year income and average raise each year\n",
        "income, income_yr_increase = 170000, 0.03\n",
        "\n",
        "# explicitly define future years incomes instead of using percent increase\n",
        "income_dict = {\n",
        "    #2023: 280000\n",
        "}\n",
        "\n",
        "''' ********** TAXES ********** '''\n",
        "# Starting year income bracket\n",
        "standard_deduction = 25900\n",
        "income_bracket = [\n",
        "    (0, standard_deduction),\n",
        "    (0.1, 20550+standard_deduction),\n",
        "    (0.12, 83550+standard_deduction),\n",
        "    (0.22, 178150+standard_deduction),\n",
        "    (0.24, 340100+standard_deduction),\n",
        "    (0.32, 431900+standard_deduction),\n",
        "    (0.35, 647850+standard_deduction),\n",
        "    (0.37, -1)\n",
        "]\n",
        "\n",
        "# highest tax willing to pay on IRA withdrawal\n",
        "# if income is already higher than this number, a minimum amount is calculated\n",
        "# roughly similar to RMDs\n",
        "max_acceptable_tax_rate = 0.24\n",
        "\n",
        "# average yearly increase in tax bracket\n",
        "tax_bracket_yr_increase = 0.03\n"
      ]
    },
    {
      "cell_type": "code",
      "execution_count": null,
      "metadata": {
        "id": "NPEr6CANSeTB"
      },
      "outputs": [],
      "source": [
        "## Define Functions\n",
        "def determine_withdrawal_amount(swr_amount):\n",
        "    if ira_amount == 0:\n",
        "        print('ira is empty')\n",
        "        return 0\n",
        "\n",
        "    ramount = min(max(swr_amount, ira_amount/(years_remaining-0)), ira_amount)\n",
        "    print('Minimum withdrawal amount:', ramount)\n",
        "    \n",
        "    for rate, amount in income_bracket:\n",
        "        if amount > -1 and max_acceptable_tax_rate==rate and income <= amount:\n",
        "            ramount = max(amount - income, ramount)\n",
        "\n",
        "    return min(ramount, ira_amount)\n",
        "\n",
        "def tax_amount(total_income):\n",
        "    tamount = 0\n",
        "    prev_amount = 0\n",
        "    for rate, amount in income_bracket:\n",
        "        tamount += (min(total_income,amount)-prev_amount)*rate\n",
        "        #print(f'TAXES: rate={rate}, running_amount={tamount}')\n",
        "        if total_income<amount:\n",
        "            break\n",
        "        \n",
        "        prev_amount = amount\n",
        "\n",
        "    return tamount\n",
        "\n"
      ]
    },
    {
      "cell_type": "code",
      "execution_count": null,
      "metadata": {
        "colab": {
          "base_uri": "https://localhost:8080/"
        },
        "id": "26OPdilZSeTC",
        "outputId": "0e1d51db-b344-42f4-9003-fbd15ee9d4eb"
      },
      "outputs": [
        {
          "output_type": "stream",
          "name": "stdout",
          "text": [
            "YEAR: 2022\n",
            "2022 Starting IRA Balance: 291000\n",
            "2022 Starting New asset balance: 0\n",
            "Minimum withdrawal amount: 29100.0\n",
            "2022 Safe withdrawal amount (SWR): $0.0\n",
            "2022 Total withdrawal amount: $196000\n",
            "2022 Withdrawal taxes: 46359.0\n",
            "2022 Ending IRA Balance: 95000\n",
            "2022 Ending New asset balance: 149641.0\n",
            "\n",
            "\n",
            "YEAR: 2023\n",
            "2023 Starting IRA Balance: 101650.0\n",
            "2023 Starting New asset balance: 160115.87\n",
            "Minimum withdrawal amount: 11294.444444444445\n",
            "2023 Safe withdrawal amount (SWR): $0.0\n",
            "2023 Total withdrawal amount: $101650.0\n",
            "2023 Withdrawal taxes: 23694.569999999996\n",
            "2023 Ending IRA Balance: 0.0\n",
            "2023 Ending New asset balance: 238071.3\n",
            "\n",
            "\n",
            "YEAR: 2024\n",
            "2024 Starting IRA Balance: 0.0\n",
            "2024 Starting New asset balance: 254736.291\n",
            "ira is empty\n",
            "2024 Safe withdrawal amount (SWR): $0.0\n",
            "2024 Total withdrawal amount: $0\n",
            "2024 Withdrawal taxes: 0.0\n",
            "2024 Ending IRA Balance: 0.0\n",
            "2024 Ending New asset balance: 254736.291\n",
            "\n",
            "\n",
            "YEAR: 2025\n",
            "2025 Starting IRA Balance: 0.0\n",
            "2025 Starting New asset balance: 272567.83137\n",
            "ira is empty\n",
            "2025 Safe withdrawal amount (SWR): $0.0\n",
            "2025 Total withdrawal amount: $0\n",
            "2025 Withdrawal taxes: 0.0\n",
            "2025 Ending IRA Balance: 0.0\n",
            "2025 Ending New asset balance: 272567.83137\n",
            "\n",
            "\n",
            "YEAR: 2026\n",
            "2026 Starting IRA Balance: 0.0\n",
            "2026 Starting New asset balance: 291647.5795659\n",
            "ira is empty\n",
            "2026 Safe withdrawal amount (SWR): $0.0\n",
            "2026 Total withdrawal amount: $0\n",
            "2026 Withdrawal taxes: 0.0\n",
            "2026 Ending IRA Balance: 0.0\n",
            "2026 Ending New asset balance: 291647.5795659\n",
            "\n",
            "\n",
            "YEAR: 2027\n",
            "2027 Starting IRA Balance: 0.0\n",
            "2027 Starting New asset balance: 312062.91013551306\n",
            "ira is empty\n",
            "2027 Safe withdrawal amount (SWR): $0.0\n",
            "2027 Total withdrawal amount: $0\n",
            "2027 Withdrawal taxes: 0.0\n",
            "2027 Ending IRA Balance: 0.0\n",
            "2027 Ending New asset balance: 312062.91013551306\n",
            "\n",
            "\n",
            "YEAR: 2028\n",
            "2028 Starting IRA Balance: 0.0\n",
            "2028 Starting New asset balance: 333907.313844999\n",
            "ira is empty\n",
            "2028 Safe withdrawal amount (SWR): $0.0\n",
            "2028 Total withdrawal amount: $0\n",
            "2028 Withdrawal taxes: 0.0\n",
            "2028 Ending IRA Balance: 0.0\n",
            "2028 Ending New asset balance: 333907.313844999\n",
            "\n",
            "\n",
            "YEAR: 2029\n",
            "2029 Starting IRA Balance: 0.0\n",
            "2029 Starting New asset balance: 357280.82581414894\n",
            "ira is empty\n",
            "2029 Safe withdrawal amount (SWR): $0.0\n",
            "2029 Total withdrawal amount: $0\n",
            "2029 Withdrawal taxes: 0.0\n",
            "2029 Ending IRA Balance: 0.0\n",
            "2029 Ending New asset balance: 357280.82581414894\n",
            "\n",
            "\n",
            "YEAR: 2030\n",
            "2030 Starting IRA Balance: 0.0\n",
            "2030 Starting New asset balance: 382290.48362113937\n",
            "ira is empty\n",
            "2030 Safe withdrawal amount (SWR): $0.0\n",
            "2030 Total withdrawal amount: $0\n",
            "2030 Withdrawal taxes: 0.0\n",
            "2030 Ending IRA Balance: 0.0\n",
            "2030 Ending New asset balance: 382290.48362113937\n",
            "\n",
            "\n",
            "YEAR: 2031\n",
            "2031 Starting IRA Balance: 0.0\n",
            "2031 Starting New asset balance: 409050.81747461914\n",
            "ira is empty\n",
            "2031 Safe withdrawal amount (SWR): $0.0\n",
            "2031 Total withdrawal amount: $0\n",
            "2031 Withdrawal taxes: 0.0\n",
            "2031 Ending IRA Balance: 0.0\n",
            "2031 Ending New asset balance: 409050.81747461914\n",
            "\n",
            "\n",
            "YEAR: 2032\n",
            "2032 Starting IRA Balance: 0.0\n",
            "2032 Starting New asset balance: 437684.3746978425\n",
            "ira is empty\n",
            "2032 Safe withdrawal amount (SWR): $0.0\n",
            "2032 Total withdrawal amount: $0\n",
            "2032 Withdrawal taxes: 0.0\n",
            "2032 Ending IRA Balance: 0.0\n",
            "2032 Ending New asset balance: 437684.3746978425\n",
            "\n",
            "\n"
          ]
        }
      ],
      "source": [
        "\n",
        "x_years = [current_year+i for i in range(n_future_years)]\n",
        "y_damounts = []\n",
        "y_new_asset = []\n",
        "y_taxes = []\n",
        "y_ira = []\n",
        "y_swr = []\n",
        "y_income = []\n",
        "\n",
        "for i in range(n_future_years):\n",
        "    print(f'YEAR: {current_year+i}')\n",
        "    print(current_year+i, 'Starting IRA Balance:', ira_amount)\n",
        "    print(current_year+i, 'Starting New asset balance:', new_asset)\n",
        "    swr_amount = (ira_amount+new_asset)*swr\n",
        "    y_swr.append(swr_amount)\n",
        "    damount = determine_withdrawal_amount(swr_amount)\n",
        "    y_damounts.append(damount)\n",
        "\n",
        "    print(current_year+i, f'Safe withdrawal amount (SWR): ${swr_amount}')\n",
        "    print(current_year+i, f'Total withdrawal amount: ${damount}')\n",
        "\n",
        "    if swr_amount > damount:\n",
        "        new_asset -= (swr_amount-damount)\n",
        "        wamount = swr_amount\n",
        "\n",
        "    taxes = tax_amount(damount+income)\n",
        "    inc_taxes = tax_amount(income)\n",
        "    taxes -= inc_taxes\n",
        "    y_taxes.append(taxes)\n",
        "    print(current_year+i, f'Withdrawal taxes: {taxes}')\n",
        "    y_ira.append(ira_amount)\n",
        "    ira_amount -= damount\n",
        "    new_asset += max((damount-swr_amount-taxes), 0)\n",
        "    \n",
        "    y_new_asset.append(new_asset)\n",
        "\n",
        "    print(current_year+i, 'Ending IRA Balance:', ira_amount)\n",
        "    print(current_year+i, 'Ending New asset balance:', new_asset)\n",
        "    print()\n",
        "    print()\n",
        "    # increment/decrement\n",
        "    years_remaining -= 1\n",
        "    ira_amount *= (1+ira_ror)\n",
        "    new_asset *= (1+new_asset_ror)\n",
        "    new_asset += income*new_asset_contribution_rate_perc_of_income\n",
        "    y_income.append(income)\n",
        "    income = income_dict.get(current_year+i+1, income*(1+income_yr_increase))\n",
        "    income_bracket = [(rate, amount*(1+tax_bracket_yr_increase)) for rate, amount in income_bracket]\n",
        "\n"
      ]
    },
    {
      "cell_type": "code",
      "execution_count": null,
      "metadata": {
        "colab": {
          "base_uri": "https://localhost:8080/",
          "height": 312
        },
        "id": "dlWITd-GSeTE",
        "outputId": "c91aeb60-ca63-49b4-df0e-2f5c2ccbe08e"
      },
      "outputs": [
        {
          "output_type": "display_data",
          "data": {
            "text/plain": [
              "<Figure size 432x288 with 1 Axes>"
            ],
            "image/png": "[encoded data removed]"
          },
          "metadata": {
            "needs_background": "light"
          }
        },
        {
          "output_type": "stream",
          "name": "stdout",
          "text": [
            "Total withdrawn from IRA: $297650.0\n"
          ]
        }
      ],
      "source": [
        "import matplotlib.pyplot as plt\n",
        "\n",
        "\n",
        "plt.plot(x_years, y_damounts)\n",
        "plt.title('Inherited IRA Distributions by Year')\n",
        "plt.xlabel('Year')\n",
        "plt.ylabel('Amount')\n",
        "plt.show()\n",
        "\n",
        "print(f'Total withdrawn from IRA: ${round(sum(y_damounts), 2)}')\n"
      ]
    },
    {
      "cell_type": "code",
      "execution_count": null,
      "metadata": {
        "id": "IUfZfTLASeTE",
        "outputId": "134ae4e8-749e-4e5a-f959-51160b7ffd67"
      },
      "outputs": [
        {
          "data": {
            "image/png": "[encoded data removed]",
            "text/plain": [
              "<Figure size 432x288 with 1 Axes>"
            ]
          },
          "metadata": {
            "needs_background": "light"
          },
          "output_type": "display_data"
        }
      ],
      "source": [
        "plt.plot(x_years, y_ira)\n",
        "plt.title('IRA Balance by Year')\n",
        "plt.xlabel('Year')\n",
        "plt.ylabel('Amount')\n",
        "plt.show()"
      ]
    },
    {
      "cell_type": "code",
      "execution_count": null,
      "metadata": {
        "id": "8l7ObEVNSeTF",
        "outputId": "ae215a52-63fe-45d5-bedb-eedb10f9de7a"
      },
      "outputs": [
        {
          "data": {
            "image/png": "[encoded data removed]",
            "text/plain": [
              "<Figure size 432x288 with 1 Axes>"
            ]
          },
          "metadata": {
            "needs_background": "light"
          },
          "output_type": "display_data"
        },
        {
          "name": "stdout",
          "output_type": "stream",
          "text": [
            "Total taxes: $70053.57\n"
          ]
        }
      ],
      "source": [
        "plt.plot(x_years, y_taxes)\n",
        "plt.title('IRA Withdrawal taxes by Year')\n",
        "plt.xlabel('Year')\n",
        "plt.ylabel('Amount')\n",
        "plt.show()\n",
        "print(f'Total taxes: ${round(sum(y_taxes),2)}')"
      ]
    },
    {
      "cell_type": "code",
      "execution_count": null,
      "metadata": {
        "id": "IsQlVbjVSeTG",
        "outputId": "34a7b85c-38e2-4cb3-857c-7d00619ddc17"
      },
      "outputs": [
        {
          "data": {
            "image/png": "[encoded data removed]",
            "text/plain": [
              "<Figure size 432x288 with 1 Axes>"
            ]
          },
          "metadata": {
            "needs_background": "light"
          },
          "output_type": "display_data"
        }
      ],
      "source": [
        "plt.plot(x_years, y_new_asset)\n",
        "plt.title('New Asset Balance by Year')\n",
        "plt.xlabel('Year')\n",
        "plt.ylabel('Amount')\n",
        "plt.show()"
      ]
    },
    {
      "cell_type": "code",
      "execution_count": null,
      "metadata": {
        "id": "HZfBMLQvSeTH",
        "outputId": "4feddc6f-2131-44aa-8075-85c39a9b337c"
      },
      "outputs": [
        {
          "name": "stdout",
          "output_type": "stream",
          "text": [
            "Effective tax rate for all IRA withdrawals: 23.5356%\n"
          ]
        }
      ],
      "source": [
        "print(f'Effective tax rate for all IRA withdrawals: {round(100*sum(y_taxes)/sum(y_damounts),4)}%')"
      ]
    },
    {
      "cell_type": "code",
      "execution_count": null,
      "metadata": {
        "id": "6yVrG4D_SeTH",
        "outputId": "2b81865d-2925-473f-c666-5d9d4bc02b58"
      },
      "outputs": [
        {
          "data": {
            "image/png": "[encoded data removed]",
            "text/plain": [
              "<Figure size 432x288 with 1 Axes>"
            ]
          },
          "metadata": {
            "needs_background": "light"
          },
          "output_type": "display_data"
        }
      ],
      "source": [
        "plt.plot(x_years, y_swr)\n",
        "plt.title('Safe withdrawal rate (SWR) by Year')\n",
        "plt.xlabel('Year')\n",
        "plt.ylabel('Amount')\n",
        "plt.show()"
      ]
    },
    {
      "cell_type": "code",
      "execution_count": null,
      "metadata": {
        "id": "aLfdUM7OSeTH",
        "outputId": "972185b9-8bc9-4ac4-8229-3dd161101e81"
      },
      "outputs": [
        {
          "data": {
            "image/png": "[encoded data removed]",
            "text/plain": [
              "<Figure size 432x288 with 1 Axes>"
            ]
          },
          "metadata": {
            "needs_background": "light"
          },
          "output_type": "display_data"
        }
      ],
      "source": [
        "plt.plot(x_years, y_income)\n",
        "plt.title('Income by Year')\n",
        "plt.xlabel('Year')\n",
        "plt.ylabel('Amount')\n",
        "plt.show()"
      ]
    },
    {
      "cell_type": "code",
      "execution_count": null,
      "metadata": {
        "id": "ob2-A0VhSeTI"
      },
      "outputs": [],
      "source": []
    }
  ],
  "metadata": {
    "interpreter": {
      "hash": "b0fa6594d8f4cbf19f97940f81e996739fb7646882a419484c72d19e05852a7e"
    },
    "kernelspec": {
      "display_name": "Python 3.9.10 64-bit",
      "language": "python",
      "name": "python3"
    },
    "language_info": {
      "codemirror_mode": {
        "name": "ipython",
        "version": 3
      },
      "file_extension": ".py",
      "mimetype": "text/x-python",
      "name": "python",
      "nbconvert_exporter": "python",
      "pygments_lexer": "ipython3",
      "version": "3.9.10"
    },
    "orig_nbformat": 4,
    "colab": {
      "provenance": [],
      "include_colab_link": true
    }
  },
  "nbformat": 4,
  "nbformat_minor": 0
}